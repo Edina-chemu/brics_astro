{
  "cells": [
    {
      "cell_type": "markdown",
      "metadata": {
        "id": "view-in-github",
        "colab_type": "text"
      },
      "source": [
        "<a href=\"https://colab.research.google.com/github/Edina-chemu/brics_astro/blob/main/Week1/02_variables.ipynb\" target=\"_parent\"><img src=\"https://colab.research.google.com/assets/colab-badge.svg\" alt=\"Open In Colab\"/></a>"
      ]
    },
    {
      "cell_type": "markdown",
      "id": "0",
      "metadata": {
        "id": "0"
      },
      "source": [
        "# Variables and Data Types\n",
        "\n",
        "[![Open In Colab](https://colab.research.google.com/assets/colab-badge.svg)](https://colab.research.google.com/github/Danselem/brics_astro/blob/main/Week1/02_variables.ipynb)\n",
        "\n",
        "\n",
        "<div style=\"text-align: center;\">\n",
        "  <img src=\"https://physicsworld.com/wp-content/uploads/2022/03/Planets-in-Alpha-Centauri-system-could-be-carbon-rich-%E2%80%93-if-they-exist.jpg\" width=\"800\"/>\n",
        "</div>\n",
        "\n",
        "\n",
        "\n",
        "## Overview\n",
        "\n",
        "This lecture introduces the basic concepts of Python variables and data types. It also highlights their applications in astronomy. This will serve as the foundation for the follow up topics in dealing with astronomy data, as variables allow you to store and manipulate information, while data types define the kind of operations you can perform on this information. This lecture will guide you through variable assignment, naming conventions, and the various data types available in Python, providing practical examples relevant to Astronomy.\n",
        "\n",
        "## Learning Objectives\n",
        "\n",
        "By the end of this lecture, you should be able to:\n",
        "\n",
        "- Define and use variables in Python, adhering to best practices for naming and assignment.\n",
        "- Identify and utilize various Python data types, including integers, floats, strings, booleans, lists, and dictionaries.\n",
        "- Understand how data types are used in the context of astronomy data, such as coordinates and attribute information.\n",
        "- Perform basic operations and manipulations on different data types, reinforcing your understanding of their practical applications in astronomy and data science in general.\n",
        "- Apply the concepts of variables and data types in solving real-world  problems, including that of astronomy."
      ]
    },
    {
      "cell_type": "markdown",
      "id": "1",
      "metadata": {
        "id": "1"
      },
      "source": [
        "## What is a Variable?\n",
        "Variable is a common terminology in programming for storing information. In Python, a variable is a symbolic name that references or points to an object. Once an object is assigned to a variable, you can refer to that object by the variable name.\n",
        "\n",
        "Below is an example of creating a variable that represents the name of a star in astronomy."
      ]
    },
    {
      "cell_type": "code",
      "execution_count": null,
      "id": "2",
      "metadata": {
        "id": "2"
      },
      "outputs": [],
      "source": [
        "star_name = \"Alpha Centauri\""
      ]
    },
    {
      "cell_type": "markdown",
      "id": "3",
      "metadata": {
        "id": "3"
      },
      "source": [
        "This variable `star_name` now holds the string value Alpha Centauri.\n",
        "\n",
        "To view the value of the variable, we can use the `print()` function."
      ]
    },
    {
      "cell_type": "code",
      "execution_count": null,
      "id": "4",
      "metadata": {
        "id": "4",
        "outputId": "bc2ee32e-c8f2-4a5d-9208-d1d15d0ea89f"
      },
      "outputs": [
        {
          "name": "stdout",
          "output_type": "stream",
          "text": [
            "Alpha Centauri\n"
          ]
        }
      ],
      "source": [
        "print(star_name)"
      ]
    },
    {
      "cell_type": "markdown",
      "id": "5",
      "metadata": {
        "id": "5"
      },
      "source": [
        "Alternatively, we can simply type the variable name in a code cell and run the cell to display the value of the variable."
      ]
    },
    {
      "cell_type": "code",
      "execution_count": null,
      "id": "6",
      "metadata": {
        "id": "6",
        "outputId": "f7758391-cb42-4495-b61f-8142a26d13b1"
      },
      "outputs": [
        {
          "data": {
            "text/plain": [
              "'Alpha Centauri'"
            ]
          },
          "execution_count": 3,
          "metadata": {},
          "output_type": "execute_result"
        }
      ],
      "source": [
        "star_name"
      ]
    },
    {
      "cell_type": "markdown",
      "id": "7",
      "metadata": {
        "id": "7"
      },
      "source": [
        "## Naming Variables\n",
        "\n",
        "When naming variables, you should follow these rules:\n",
        "\n",
        "- Variable names must start with a letter or an underscore, such as `_`.\n",
        "- The remainder of the variable name can consist of letters, numbers, and underscores.\n",
        "- Variable names are case-sensitive, so `star_name` and `Star_Name` are different variables.\n",
        "- Variable names should be descriptive and meaningful, such as `star_name` instead of `sn`.\n",
        "- Avoid using Python keywords and built-in functions as variable names, such as `print`, `sum`, `list`, `dict`, `str`, `int`, `float`, `bool`, `set`, `tuple`, `range`, `type`, `object`, `None`, `True`, `False`, `and`, `or`, `not`, `if`, `else`, `elif`, `for`, `while`, `break`, `continue`, `pass`, `def`, `return`, `lambda`, `class`, `import`, `from`, `as`, `with`, `try`, `except`, `finally`, `raise`, `assert`, `del`, `in`, `is`, `global`, `nonlocal`, `yield`, `async`, `await`."
      ]
    },
    {
      "cell_type": "markdown",
      "id": "8",
      "metadata": {
        "id": "8"
      },
      "source": [
        "## Data Types\n",
        "\n",
        "Data types are different ways a data can be represented. Python supports various data types, which are essential to understand before working with astronomy data. The most common data types include:\n",
        "\n",
        "**a) Integers (int):** These data representing whole numbers, e.g., 1, 150, -4. It can be positive or negative but do not have a part of a fraction (decimal points)."
      ]
    },
    {
      "cell_type": "code",
      "execution_count": 1,
      "id": "9",
      "metadata": {
        "id": "9"
      },
      "outputs": [],
      "source": [
        "num_features = 20  # Represents the number of features in a catalog"
      ]
    },
    {
      "cell_type": "code",
      "source": [],
      "metadata": {
        "id": "bE1ztqiYmj49"
      },
      "id": "bE1ztqiYmj49",
      "execution_count": null,
      "outputs": []
    },
    {
      "cell_type": "markdown",
      "id": "10",
      "metadata": {
        "id": "10"
      },
      "source": [
        "**b) Floating-point numbers (float):** These are data representing numbers with a decimal point, e.g., 3.14, -0.1, 100.5 etc. You can write multiple lines of code in a single code cell. The output will be displayed for the last line of code."
      ]
    },
    {
      "cell_type": "code",
      "execution_count": null,
      "id": "11",
      "metadata": {
        "id": "11"
      },
      "outputs": [],
      "source": [
        "RA = 219.9021  # Represents the Right Ascension of Alpha Centauri\n",
        "Dec = -60.8340 # Represents the Declination of Alpha Centauri"
      ]
    },
    {
      "cell_type": "markdown",
      "id": "12",
      "metadata": {
        "id": "12"
      },
      "source": [
        "**c) Strings (str):** Strings are representation of characters, e.g., \"Hello\", \"Astronomy\", \"Star\", \"Galaxy\"."
      ]
    },
    {
      "cell_type": "code",
      "execution_count": null,
      "id": "13",
      "metadata": {
        "id": "13"
      },
      "outputs": [],
      "source": [
        "coordinate_system = \"Equitorial\"  # Represents a commonly used coordinate system in Astronomy"
      ]
    },
    {
      "cell_type": "markdown",
      "id": "14",
      "metadata": {
        "id": "14"
      },
      "source": [
        "Strings can be enclosed in single quotes (`'`) or double quotes (`\"`). You can also use triple quotes (`'''` or `\"\"\"`) for multiline strings."
      ]
    },
    {
      "cell_type": "markdown",
      "id": "15",
      "metadata": {
        "id": "15"
      },
      "source": [
        "**d) Booleans (bool):** Booleans represent one of two values: True or False"
      ]
    },
    {
      "cell_type": "code",
      "execution_count": null,
      "id": "16",
      "metadata": {
        "id": "16"
      },
      "outputs": [],
      "source": [
        "is_galaxy = True  # Represents whether a dataset is a galaxy or not."
      ]
    },
    {
      "cell_type": "markdown",
      "id": "17",
      "metadata": {
        "id": "17"
      },
      "source": [
        "**e) Lists:** Lists are ordered collections of items, and can be of any data type."
      ]
    },
    {
      "cell_type": "code",
      "execution_count": null,
      "id": "18",
      "metadata": {
        "id": "18"
      },
      "outputs": [],
      "source": [
        "coordinates = [\n",
        "    219.9021,\n",
        "    -60.8340,\n",
        "]  # A list representing Right ascension and declination of Alpha Centauri"
      ]
    },
    {
      "cell_type": "markdown",
      "id": "19",
      "metadata": {
        "id": "19"
      },
      "source": [
        "**f) Dictionaries (dict):** Dictionaries are collections of key-value pairs."
      ]
    },
    {
      "cell_type": "code",
      "execution_count": null,
      "id": "20",
      "metadata": {
        "id": "20"
      },
      "outputs": [],
      "source": [
        "feature_attributes = {\n",
        "    \"name\": \"Alpha Centauri A\",\n",
        "    \"B_mag\": 0.4,\n",
        "    \"type\": \"Star\",\n",
        "    \"coordinates\": [219.9021, -60.8340,]\n",
        "}"
      ]
    },
    {
      "cell_type": "markdown",
      "id": "21",
      "metadata": {
        "id": "21"
      },
      "source": [
        "## Escape Characters\n",
        "\n",
        "Escape characters are used to insert characters that are illegal in a string. For example, you can use the escape character `\\n` to insert a new line in a string."
      ]
    },
    {
      "cell_type": "code",
      "execution_count": null,
      "id": "22",
      "metadata": {
        "id": "22",
        "outputId": "0df6ec8f-5e4d-4bbc-9ba2-abe961ee143b"
      },
      "outputs": [
        {
          "name": "stdout",
          "output_type": "stream",
          "text": [
            "Hello World!\n",
            "This is a Python script.\n"
          ]
        }
      ],
      "source": [
        "print(\"Hello World!\\nThis is a Python script.\")"
      ]
    },
    {
      "cell_type": "markdown",
      "id": "23",
      "metadata": {
        "id": "23"
      },
      "source": [
        "Another common escape character is `\\t`, which inserts a tab in a string."
      ]
    },
    {
      "cell_type": "code",
      "execution_count": null,
      "id": "24",
      "metadata": {
        "id": "24",
        "outputId": "3bfd1d79-a9c4-4e91-850e-082bbfe05bc4"
      },
      "outputs": [
        {
          "name": "stdout",
          "output_type": "stream",
          "text": [
            "This is the first line.\n",
            "\tThis is the second line. It is indented.\n"
          ]
        }
      ],
      "source": [
        "print(\"This is the first line.\\n\\tThis is the second line. It is indented.\")"
      ]
    },
    {
      "cell_type": "markdown",
      "id": "25",
      "metadata": {
        "id": "25"
      },
      "source": [
        "If you want to include a single quote in a string, your can wrap the string in double quotes. Alternatively, you can use the escape character `\\'` to include a single quote in a string."
      ]
    },
    {
      "cell_type": "code",
      "execution_count": null,
      "id": "26",
      "metadata": {
        "id": "26",
        "outputId": "9d953d8c-ff42-4b1c-8279-9c143dd2f33c"
      },
      "outputs": [
        {
          "name": "stdout",
          "output_type": "stream",
          "text": [
            "What's your name?\n"
          ]
        }
      ],
      "source": [
        "print(\"What's your name?\")"
      ]
    },
    {
      "cell_type": "markdown",
      "id": "28",
      "metadata": {
        "id": "28"
      },
      "source": [
        "## Comments\n",
        "\n",
        "Comments are used to explain a code and make it readable. In Python, comments start with the hash `#` symbol. Everything after the `#` symbol on a line is ignored by the Python interpreter."
      ]
    },
    {
      "cell_type": "code",
      "execution_count": null,
      "id": "29",
      "metadata": {
        "id": "29"
      },
      "outputs": [],
      "source": [
        "# This is a comment\n",
        "num_points = 120  # This is an inline comment"
      ]
    },
    {
      "cell_type": "markdown",
      "id": "30",
      "metadata": {
        "id": "30"
      },
      "source": [
        "## Operators\n",
        "Operators are special symbols or keywords in Python that perform operations on values (called operands). Think of them as the mathematical symbols `(+, -, *, /)` and logical connectors (and, or, not) you use in calculations and decision-making, but adapted for programming. Understanding operators is fundamental to performing calculations, comparing values, and controlling the flow of your scientific problems.\n",
        "\n",
        "\n",
        "### Arithmetic Operators\n",
        "These are used for standard mathematical operations.\n",
        "\n",
        "\n",
        "* `+` : Addition (Adds operands)\n",
        "* `-` : Subtraction (Subtracts the right operand from the left)\n",
        "* `*` : Multiplication (Multiplies operands)\n",
        "* `/` : Division (Divides the left operand by the right, result is always a float)\n",
        "* `//`: Floor Division (Divides and rounds down to the nearest whole number)\n",
        "* `%`: Modulus (Returns the remainder of the division)\n",
        "* `**`: Exponent (Raises the left operand to the power of the right)\n",
        "\n",
        "### Arithmetic Operators Examples"
      ]
    },
    {
      "cell_type": "code",
      "execution_count": null,
      "id": "31",
      "metadata": {
        "id": "31",
        "outputId": "fa47c192-e867-43eb-cd8f-d32ea8cd834d"
      },
      "outputs": [
        {
          "name": "stdout",
          "output_type": "stream",
          "text": [
            "Approximate distance Earth to Jupiter via Sun: 6.2 AU\n"
          ]
        }
      ],
      "source": [
        "# Distances in Astronomical Units (AU)\n",
        "distance_earth_sun = 1.0\n",
        "distance_mars_sun = 1.52\n",
        "distance_jupiter_sun = 5.2\n",
        "\n",
        "# Addition: Total distance from Earth to Jupiter via Sun (simplified)\n",
        "total_distance = distance_earth_sun + distance_jupiter_sun\n",
        "print(f\"Approximate distance Earth to Jupiter via Sun: {total_distance} AU\")"
      ]
    },
    {
      "cell_type": "code",
      "execution_count": null,
      "id": "92d66bac-3f84-4d4e-8a2d-ef4e65e9883f",
      "metadata": {
        "id": "92d66bac-3f84-4d4e-8a2d-ef4e65e9883f",
        "outputId": "1b5ea038-d1ab-4676-907f-236cc7db0af5"
      },
      "outputs": [
        {
          "name": "stdout",
          "output_type": "stream",
          "text": [
            "Difference in distance (Mars - Earth): 0.52 AU\n"
          ]
        }
      ],
      "source": [
        "# Subtraction: Difference in distance from Sun between Mars and Earth\n",
        "distance_difference = distance_mars_sun - distance_earth_sun\n",
        "print(f\"Difference in distance (Mars - Earth): {distance_difference:.2f} AU\") # Format to 2 decimal places"
      ]
    },
    {
      "cell_type": "code",
      "execution_count": null,
      "id": "33",
      "metadata": {
        "id": "33",
        "outputId": "d4aeb77b-d529-4119-dbdb-d50bf616218c"
      },
      "outputs": [
        {
          "name": "stdout",
          "output_type": "stream",
          "text": [
            "Jupiter's distance from Sun: 7.80e+08 km\n"
          ]
        }
      ],
      "source": [
        "# Multiplication: Convert Jupiter's distance to kilometers (1 AU approx 150 million km)\n",
        "distance_jupiter_km = distance_jupiter_sun * 150e6 # 150e6 means 150 * 10^6\n",
        "print(f\"Jupiter's distance from Sun: {distance_jupiter_km:.2e} km\") # Scientific notation"
      ]
    },
    {
      "cell_type": "code",
      "execution_count": null,
      "id": "547794c0-1a73-49c6-988c-7a57efb9a719",
      "metadata": {
        "id": "547794c0-1a73-49c6-988c-7a57efb9a719",
        "outputId": "19826c79-983c-4eb7-9182-86f21f189f26"
      },
      "outputs": [
        {
          "name": "stdout",
          "output_type": "stream",
          "text": [
            "Jupiter is 3.42 times farther than Mars from the Sun\n"
          ]
        }
      ],
      "source": [
        "# Division: How many times farther is Jupiter than Mars from the Sun?\n",
        "jupiter_mars_ratio = distance_jupiter_sun / distance_mars_sun\n",
        "print(f\"Jupiter is {jupiter_mars_ratio:.2f} times farther than Mars from the Sun\")\n"
      ]
    },
    {
      "cell_type": "code",
      "execution_count": null,
      "id": "35",
      "metadata": {
        "id": "35",
        "outputId": "3f346567-bc56-4399-9982-3032b4733016"
      },
      "outputs": [
        {
          "name": "stdout",
          "output_type": "stream",
          "text": [
            "Full years to reach Jupiter at 0.5 AU/year: 10.0 years\n"
          ]
        }
      ],
      "source": [
        "# Floor Division: If a probe travels 0.5 AU per year, how many full years to reach Jupiter?\n",
        "travel_speed_au_year = 0.5\n",
        "full_years_to_jupiter = distance_jupiter_sun // travel_speed_au_year\n",
        "print(f\"Full years to reach Jupiter at {travel_speed_au_year} AU/year: {full_years_to_jupiter} years\")"
      ]
    },
    {
      "cell_type": "code",
      "execution_count": null,
      "id": "1fc2f9d4-2227-40f3-9768-38f457b634e1",
      "metadata": {
        "id": "1fc2f9d4-2227-40f3-9768-38f457b634e1",
        "outputId": "a8cb9b40-04b2-47a3-d55a-64824db015bc"
      },
      "outputs": [
        {
          "name": "stdout",
          "output_type": "stream",
          "text": [
            "Remaining distance after 10.0 years: 0.20000000000000018 AU\n"
          ]
        }
      ],
      "source": [
        "# Modulus: Remainder distance after those full years of travel\n",
        "remainder_distance = distance_jupiter_sun % travel_speed_au_year\n",
        "print(f\"Remaining distance after {full_years_to_jupiter} years: {remainder_distance} AU\")"
      ]
    },
    {
      "cell_type": "code",
      "execution_count": null,
      "id": "37",
      "metadata": {
        "id": "37",
        "outputId": "ef496b45-8230-4432-e8f7-245c74f8ed31"
      },
      "outputs": [
        {
          "name": "stdout",
          "output_type": "stream",
          "text": [
            "Relative brightness factor at Jupiter's distance: 0.037\n",
            "Relative brightness factor at Mars' distance: 0.433\n"
          ]
        }
      ],
      "source": [
        "# Exponent: If brightness decreases with the square of the distance (simplified)\n",
        "brightness_factor_jupiter = 1 / (distance_jupiter_sun ** 2)\n",
        "brightness_factor_mars = 1 / (distance_mars_sun ** 2)\n",
        "print(f\"Relative brightness factor at Jupiter's distance: {brightness_factor_jupiter:.3f}\")\n",
        "print(f\"Relative brightness factor at Mars' distance: {brightness_factor_mars:.3f}\")"
      ]
    },
    {
      "cell_type": "markdown",
      "id": "38",
      "metadata": {
        "id": "38"
      },
      "source": [
        "### Comparison Operators\n",
        "These operators compare two values and return a Boolean result (True or False).\n",
        "\n",
        "* `==`: Equal to (Checks if two values are equal)\n",
        "* `!=`: Not equal to (Checks if two values are not equal)\n",
        "* `>` : Greater than\n",
        "* `< `: Less than\n",
        "* `>=`: Greater than or equal to\n",
        "* `<=`: Less than or equal to\n",
        "\n",
        "### Comparison Operators Examples"
      ]
    },
    {
      "cell_type": "code",
      "execution_count": null,
      "id": "8877990b",
      "metadata": {
        "id": "8877990b",
        "outputId": "8d69a4b1-cb6a-475d-8385-bf91786e5f9d"
      },
      "outputs": [
        {
          "name": "stdout",
          "output_type": "stream",
          "text": [
            "Is Sun's temperature 5800 K? False\n"
          ]
        }
      ],
      "source": [
        "sun_temp_kelvin = 5778\n",
        "sirius_temp_kelvin = 9940\n",
        "earth_mass_relative = 1.0\n",
        "jupiter_mass_relative = 317.8\n",
        "\n",
        "# Equal to: Is the Sun's temperature exactly 5800 K?\n",
        "is_sun_5800k = (sun_temp_kelvin == 5800)\n",
        "print(f\"Is Sun's temperature 5800 K? {is_sun_5800k}\")"
      ]
    },
    {
      "cell_type": "code",
      "execution_count": null,
      "id": "698a4fa8-6bd2-4eb8-85db-32ac69bfe9ea",
      "metadata": {
        "id": "698a4fa8-6bd2-4eb8-85db-32ac69bfe9ea",
        "outputId": "fd5fe9f4-12b3-4a17-f987-541591b74c78"
      },
      "outputs": [
        {
          "name": "stdout",
          "output_type": "stream",
          "text": [
            "Are Jupiter's and Earth's masses different? True\n"
          ]
        }
      ],
      "source": [
        "# Not equal to: Is Jupiter's mass not equal to Earth's mass?\n",
        "masses_not_equal = (jupiter_mass_relative != earth_mass_relative)\n",
        "print(f\"Are Jupiter's and Earth's masses different? {masses_not_equal}\")"
      ]
    },
    {
      "cell_type": "code",
      "execution_count": null,
      "id": "125b8168-5805-49aa-95c9-16e753e2cc6b",
      "metadata": {
        "id": "125b8168-5805-49aa-95c9-16e753e2cc6b",
        "outputId": "bbad7a54-9470-417e-ea1a-0a715d2a131a"
      },
      "outputs": [
        {
          "name": "stdout",
          "output_type": "stream",
          "text": [
            "Is Sirius hotter than the Sun? True\n"
          ]
        }
      ],
      "source": [
        "# Greater than: Is Sirius hotter than the Sun?\n",
        "is_sirius_hotter = (sirius_temp_kelvin > sun_temp_kelvin)\n",
        "print(f\"Is Sirius hotter than the Sun? {is_sirius_hotter}\")"
      ]
    },
    {
      "cell_type": "code",
      "execution_count": null,
      "id": "3a946abb-0b13-4518-a556-d8cc527c2166",
      "metadata": {
        "id": "3a946abb-0b13-4518-a556-d8cc527c2166",
        "outputId": "55a26488-54a9-4131-9581-61106df8108f"
      },
      "outputs": [
        {
          "name": "stdout",
          "output_type": "stream",
          "text": [
            "Is Earth less massive than Jupiter? True\n"
          ]
        }
      ],
      "source": [
        "# Less than: Is Earth less massive than Jupiter?\n",
        "is_earth_less_massive = (earth_mass_relative < jupiter_mass_relative)\n",
        "print(f\"Is Earth less massive than Jupiter? {is_earth_less_massive}\")"
      ]
    },
    {
      "cell_type": "code",
      "execution_count": null,
      "id": "41",
      "metadata": {
        "id": "41",
        "outputId": "e13170de-516c-4551-9d62-043bce7feb0a"
      },
      "outputs": [
        {
          "name": "stdout",
          "output_type": "stream",
          "text": [
            "Is Sun's temperature >= 5500 K? True\n"
          ]
        }
      ],
      "source": [
        "# Greater than or equal to: Is the Sun's temperature >= 5500 K?\n",
        "is_sun_temp_ge_5500 = (sun_temp_kelvin >= 5500)\n",
        "print(f\"Is Sun's temperature >= 5500 K? {is_sun_temp_ge_5500}\")"
      ]
    },
    {
      "cell_type": "code",
      "execution_count": null,
      "id": "8bf06f4f-3855-4c88-b7fc-978b261ec397",
      "metadata": {
        "id": "8bf06f4f-3855-4c88-b7fc-978b261ec397",
        "outputId": "00816ab1-5b84-4499-db8f-d09fd30db72d"
      },
      "outputs": [
        {
          "name": "stdout",
          "output_type": "stream",
          "text": [
            "Is Earth's mass <= 1? True\n"
          ]
        }
      ],
      "source": [
        "# Less than or equal to: Is Earth's mass <= 1?\n",
        "is_earth_mass_le_1 = (earth_mass_relative <= 1.0)\n",
        "print(f\"Is Earth's mass <= 1? {is_earth_mass_le_1}\")"
      ]
    },
    {
      "cell_type": "markdown",
      "id": "757d8977-65d9-4a52-afce-4c5c0473d0df",
      "metadata": {
        "id": "757d8977-65d9-4a52-afce-4c5c0473d0df"
      },
      "source": [
        "### Logical Operators\n",
        "These operators combine multiple conditional statements.\n",
        "\n",
        "* `and`: Returns True if both statements are true.\n",
        "* `or` : Returns True if at least one statement is true.\n",
        "* `not`: Reverses the result (returns False if the statement is true, True if it's false).\n",
        "\n",
        "### Logical Operators Examples"
      ]
    },
    {
      "cell_type": "code",
      "execution_count": null,
      "id": "45148a24-9de8-4cf8-88d0-2e3dda964ad6",
      "metadata": {
        "id": "45148a24-9de8-4cf8-88d0-2e3dda964ad6",
        "outputId": "227217b4-f3e9-42b0-bae5-5f08f3a2cd6a"
      },
      "outputs": [
        {
          "name": "stdout",
          "output_type": "stream",
          "text": [
            "Is the planet potentially habitable? True\n"
          ]
        }
      ],
      "source": [
        "planet_distance_au = 1.0 # Like Earth\n",
        "planet_has_liquid_water = True\n",
        "planet_is_rocky = True\n",
        "planet_is_gas_giant = False\n",
        "\n",
        "# 'and': Is the planet potentially habitable (rocky AND has liquid water)?\n",
        "is_potentially_habitable = planet_is_rocky and planet_has_liquid_water\n",
        "print(f\"Is the planet potentially habitable? {is_potentially_habitable}\")"
      ]
    },
    {
      "cell_type": "code",
      "execution_count": null,
      "id": "65364d09-24cb-4844-8021-6a440bd8a168",
      "metadata": {
        "id": "65364d09-24cb-4844-8021-6a440bd8a168",
        "outputId": "e8407a09-033b-4b21-a09a-06c57fda414c"
      },
      "outputs": [
        {
          "name": "stdout",
          "output_type": "stream",
          "text": [
            "Is the planet far away OR a gas giant? False\n"
          ]
        }
      ],
      "source": [
        "# 'or': Is the planet far away ( > 5 AU) OR a gas giant?\n",
        "is_far_or_gas = (planet_distance_au > 5.0) or planet_is_gas_giant\n",
        "print(f\"Is the planet far away OR a gas giant? {is_far_or_gas}\")\n"
      ]
    },
    {
      "cell_type": "code",
      "execution_count": null,
      "id": "c1749500-458e-49b4-b9c3-3410396cdba4",
      "metadata": {
        "id": "c1749500-458e-49b4-b9c3-3410396cdba4",
        "outputId": "246e9008-e259-4b4b-b668-a5ad48f0af07"
      },
      "outputs": [
        {
          "name": "stdout",
          "output_type": "stream",
          "text": [
            "Is the planet NOT a gas giant? True\n"
          ]
        }
      ],
      "source": [
        "# 'not': Is the planet NOT a gas giant?\n",
        "is_not_gas_giant = not planet_is_gas_giant\n",
        "print(f\"Is the planet NOT a gas giant? {is_not_gas_giant}\")"
      ]
    },
    {
      "cell_type": "code",
      "execution_count": null,
      "id": "e2818067-f990-478a-9c19-88c7d7305f87",
      "metadata": {
        "id": "e2818067-f990-478a-9c19-88c7d7305f87",
        "outputId": "658cecfd-2428-4ca5-c82a-defd1644ac82"
      },
      "outputs": [
        {
          "name": "stdout",
          "output_type": "stream",
          "text": [
            "Is the planet habitable AND relatively close? True\n"
          ]
        }
      ],
      "source": [
        "# Combining: Is the planet habitable AND not too far (< 1.5 AU)?\n",
        "habitable_and_close = is_potentially_habitable and (planet_distance_au < 1.5)\n",
        "print(f\"Is the planet habitable AND relatively close? {habitable_and_close}\")"
      ]
    },
    {
      "cell_type": "markdown",
      "id": "70e3184a-d551-4910-964a-edd35e9b7817",
      "metadata": {
        "id": "70e3184a-d551-4910-964a-edd35e9b7817"
      },
      "source": [
        "### Assignment Operators\n",
        "These operators are used to assign values to variables. The basic one is =, but there are shorthand operators combined with arithmetic operators.\n",
        "\n",
        "* `=` : Assigns value from right side to left side operand.\n",
        "* `+=`: Adds right operand to the left operand and assigns the result to the left (e.g., x += 1 is same as x = x + 1).\n",
        "* `-=` : Subtracts right operand from the left and assigns the result to the left.\n",
        "* `*=`: Multiplies left operand with the right and assigns the result to the left.\n",
        "* `/=` : Divides left operand by the right and assigns the result to the left.\n",
        "* `//=`: Performs floor division and assigns the result.\n",
        "* `%=` : Performs modulus and assigns the result.\n",
        "* `**=`: Performs exponentiation and assigns the result.\n",
        "\n",
        "### Assignment Operators Examples"
      ]
    },
    {
      "cell_type": "code",
      "execution_count": null,
      "id": "748ff34b-7778-40d6-a0ab-291c468d5598",
      "metadata": {
        "id": "748ff34b-7778-40d6-a0ab-291c468d5598",
        "outputId": "58ed7976-2970-4b3a-e7b9-72e2ced04193"
      },
      "outputs": [
        {
          "name": "stdout",
          "output_type": "stream",
          "text": [
            "There are 8 planets in the Solar System.\n",
            "Total stars in the cluster now: 7\n"
          ]
        }
      ],
      "source": [
        "# Let's say we are counting the number of planets in our Solar System\n",
        "number_of_planets = 8\n",
        "print(\"There are\", number_of_planets, \"planets in the Solar System.\")\n",
        "\n",
        "# += : Adds right operand to the left\n",
        "# Suppose we discover 2 new stars in a star cluster\n",
        "stars_in_cluster = 5\n",
        "stars_in_cluster += 2\n",
        "print(\"Total stars in the cluster now:\", stars_in_cluster)"
      ]
    },
    {
      "cell_type": "code",
      "execution_count": null,
      "id": "d5b003e6-72b5-46fa-a29d-5865762b928d",
      "metadata": {
        "id": "d5b003e6-72b5-46fa-a29d-5865762b928d",
        "outputId": "8bd222a4-9004-4a6e-fab6-62391be61f27"
      },
      "outputs": [
        {
          "name": "stdout",
          "output_type": "stream",
          "text": [
            "Remaining satellite galaxies: 3\n"
          ]
        }
      ],
      "source": [
        "# -= : Subtracts right operand from the left\n",
        "# A galaxy loses 1 satellite galaxy due to merging\n",
        "satellite_galaxies = 4\n",
        "satellite_galaxies -= 1\n",
        "print(\"Remaining satellite galaxies:\", satellite_galaxies)"
      ]
    },
    {
      "cell_type": "code",
      "execution_count": null,
      "id": "1b7b923b-2462-449b-acb6-02da52d4df69",
      "metadata": {
        "id": "1b7b923b-2462-449b-acb6-02da52d4df69",
        "outputId": "962d0664-bc75-428f-cae8-3791dd0ec30d"
      },
      "outputs": [
        {
          "name": "stdout",
          "output_type": "stream",
          "text": [
            "Updated distance to the star: 12 light-years\n"
          ]
        }
      ],
      "source": [
        "# *= : Multiplies left operand with the right\n",
        "# Distance to a nearby star is tripled due to better measurements\n",
        "distance_to_star = 4  # in light-years\n",
        "distance_to_star *= 3\n",
        "print(\"Updated distance to the star:\", distance_to_star, \"light-years\")"
      ]
    },
    {
      "cell_type": "code",
      "execution_count": null,
      "id": "3bd7513f-2bb7-4de5-9fbf-e72fbb41d0a6",
      "metadata": {
        "id": "3bd7513f-2bb7-4de5-9fbf-e72fbb41d0a6",
        "outputId": "e30a94f1-eb8e-4e4a-c73f-f4536b481604"
      },
      "outputs": [
        {
          "name": "stdout",
          "output_type": "stream",
          "text": [
            "Mass per sector: 100.0 billion solar masses\n"
          ]
        }
      ],
      "source": [
        "# /= : Divides left operand by the right\n",
        "# Total mass of a galaxy is spread across sectors\n",
        "total_mass = 300  # in billion solar masses\n",
        "sectors = 3\n",
        "mass_per_sector = total_mass\n",
        "mass_per_sector /= sectors\n",
        "print(\"Mass per sector:\", mass_per_sector, \"billion solar masses\")"
      ]
    },
    {
      "cell_type": "code",
      "execution_count": null,
      "id": "32801cea-12d9-497b-9eba-26d21c2c5629",
      "metadata": {
        "id": "32801cea-12d9-497b-9eba-26d21c2c5629",
        "outputId": "dee48997-3c26-4e68-8ce2-1b9e2b5f6365"
      },
      "outputs": [
        {
          "name": "stdout",
          "output_type": "stream",
          "text": [
            "Each telescope observes 4 exoplanets\n"
          ]
        }
      ],
      "source": [
        "# //= : Performs floor division\n",
        "# Distributing exoplanets evenly among telescopes\n",
        "exoplanets = 22\n",
        "telescopes = 5\n",
        "exoplanets_per_telescope = exoplanets\n",
        "exoplanets_per_telescope //= telescopes\n",
        "print(\"Each telescope observes\", exoplanets_per_telescope, \"exoplanets\")"
      ]
    },
    {
      "cell_type": "code",
      "execution_count": null,
      "id": "e9a0a938-5957-4d54-ae79-e30cae0d717a",
      "metadata": {
        "id": "e9a0a938-5957-4d54-ae79-e30cae0d717a",
        "outputId": "62948908-e125-4227-e128-52fb7dc3dbac"
      },
      "outputs": [
        {
          "name": "stdout",
          "output_type": "stream",
          "text": [
            "The planet returns to the same position on day: 1\n"
          ]
        }
      ],
      "source": [
        "# %= : Performs modulus\n",
        "# A planet orbits its star in 365 days. What day of the week does it return to the same position?\n",
        "orbit_day = 365\n",
        "orbit_day %= 7  # days of the week\n",
        "print(\"The planet returns to the same position on day:\", orbit_day)"
      ]
    },
    {
      "cell_type": "code",
      "execution_count": null,
      "id": "e907386b-2061-44fb-b2d4-e551cb819ec9",
      "metadata": {
        "id": "e907386b-2061-44fb-b2d4-e551cb819ec9",
        "outputId": "be3002c2-dd19-4b38-8867-219be55ee5cd"
      },
      "outputs": [
        {
          "name": "stdout",
          "output_type": "stream",
          "text": [
            "Light intensity drops by a factor of 4\n"
          ]
        }
      ],
      "source": [
        "# **= : Performs exponentiation\n",
        "# Light intensity decreases with the square of the distance\n",
        "distance = 2  # in light-years\n",
        "intensity_factor = distance\n",
        "intensity_factor **= 2  # square the distance\n",
        "print(\"Light intensity drops by a factor of\", intensity_factor)"
      ]
    },
    {
      "cell_type": "markdown",
      "id": "45",
      "metadata": {
        "id": "45"
      },
      "source": [
        "## Summary\n",
        "\n",
        "Understanding Python variables and data types is crucial in data science programming.\n",
        "As you proceed with more complex analyses, these concepts will serve as the foundation for your work.\n",
        "Continue practicing by experimenting with different data types and operations in a astronomy context.\n",
        "\n",
        "Happy coding!"
      ]
    },
    {
      "cell_type": "markdown",
      "id": "42",
      "metadata": {
        "id": "42"
      },
      "source": [
        "## Further Reading\n",
        "\n",
        "For more information on variables and data types in Python, check out the\n",
        "**Basics** section of the A Byte of Python book:  <https://python.swaroopch.com/basics.html>, <https://python.swaroopch.com/op_exp.html> or \\\n",
        "the Python Tutorial Introduction page <https://docs.python.org/3/tutorial/introduction.html>."
      ]
    },
    {
      "cell_type": "markdown",
      "id": "43",
      "metadata": {
        "id": "43"
      },
      "source": [
        "## Exercises\n",
        "\n",
        "**Variables**\n",
        "\n",
        "1.  How would you create a variable named `planet_name` and store the text \"Jupiter\" in it?\n",
        "2.  How would you create a variable named `distance_to_sun` and store the number `149.6` (representing million kilometers) in it?\n",
        "3.  If you have a variable `star_temp = 5500`, how would you change its value to `6000`?\n",
        "4.  How would you create a variable named `is_gas_giant` and set it to `True` (representing that Jupiter is a gas giant)?\n",
        "5.  If you have the variable `moon_count = 2`, how would you print a message like: \"Mars has 2 moons.\" using this variable?\n",
        "6.  Is `Number Of Stars` a good variable name in Python? Why or why not?\n",
        "7.  How would you create a variable called `galaxy_type` and store the text \"Spiral\" in it?\n",
        "\n",
        "**Operators**\n",
        "\n",
        "\n",
        "1.  Subtraction: Earth is 1.0 AU from the Sun, Mars is 1.52 AU. How would you calculate the difference between Mars's distance and Earth's distance using the subtraction operator (`-`)?\n",
        "2.  Multiplication: Jupiter's orbit takes 11.86 Earth years. An Earth year is 365.25 days. How would you calculate Jupiter's orbital period in days using the multiplication operator (`*`)?\n",
        "3.  Assignment (`+=`): If a variable `jupiter_moons` currently holds the value `79`, how would you use the `+=` operator to add `3` more moons to it?\n",
        "4.  Comparison (`>`): Venus's temperature is `462` degrees, Earth's is `15`. How would you check if Venus's temperature is greater than Earth's using the `>` operator? (What is the result?)\n",
        "5.  Comparison (`==`): If you have a variable `galaxy_type = \"Spiral\"`, how would you check if its value is exactly equal to `\"Elliptical\"` using the `==` operator? (What is the result?)\n",
        "6.  Logical (`and`): A planet needs `has_water = True` AND `atmosphere_ok = False` to be habitable (simple rule). How would you use the `and` operator to see if *both* conditions are met? (What is the result?)\n",
        "7.  Logical (`or`): Observing is possible if `is_night = True` OR `is_solar_telescope = False`. How would you use the `or` operator to see if *at least one* of these conditions is met? (What is the result?)\n",
        "8.  Multiple Arithmetic: Proxima Centauri is `4.24` light-years away (`distance_ly`). One light-year is `9.461e12` km (`km_per_ly`). How would you first calculate the total distance in km (`distance_km`) and then print it?"
      ]
    },
    {
      "cell_type": "code",
      "execution_count": null,
      "id": "2e5e6663-40ee-4c89-a730-f6558d92166c",
      "metadata": {
        "id": "2e5e6663-40ee-4c89-a730-f6558d92166c"
      },
      "outputs": [],
      "source": []
    }
  ],
  "metadata": {
    "kernelspec": {
      "display_name": "Python [conda env:base] *",
      "language": "python",
      "name": "conda-base-py"
    },
    "language_info": {
      "codemirror_mode": {
        "name": "ipython",
        "version": 3
      },
      "file_extension": ".py",
      "mimetype": "text/x-python",
      "name": "python",
      "nbconvert_exporter": "python",
      "pygments_lexer": "ipython3",
      "version": "3.12.7"
    },
    "colab": {
      "provenance": [],
      "include_colab_link": true
    }
  },
  "nbformat": 4,
  "nbformat_minor": 5
}